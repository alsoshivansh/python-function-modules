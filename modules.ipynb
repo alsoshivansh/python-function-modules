{
 "cells": [
  {
   "cell_type": "markdown",
   "id": "7e72f984",
   "metadata": {},
   "source": [
    "# What is a Module?\n",
    "Consider a module to be the same as a code library.\n",
    "\n",
    "A file containing a set of functions you want to include in your application.\n",
    "\n",
    "# Create a Module\n",
    "To create a module just save the code you want in a file with the file extension .py:"
   ]
  },
  {
   "cell_type": "code",
   "execution_count": 19,
   "id": "0d18830d",
   "metadata": {},
   "outputs": [],
   "source": [
    "#Save this code in a file named mymodule.py\n",
    "\n",
    "def greeting(name):\n",
    "  print(\"Hello, \" + name)"
   ]
  },
  {
   "cell_type": "markdown",
   "id": "33726dd6",
   "metadata": {},
   "source": [
    "# Use a Module\n",
    "Now we can use the module we just created, by using the import statement:"
   ]
  },
  {
   "cell_type": "code",
   "execution_count": 20,
   "id": "e7928bc0",
   "metadata": {},
   "outputs": [
    {
     "name": "stdout",
     "output_type": "stream",
     "text": [
      "Hello, Jonathan\n"
     ]
    }
   ],
   "source": [
    "# Import the module named mymodule, and call the greeting function:\n",
    "\n",
    "import mymodule\n",
    "\n",
    "mymodule.greeting(\"Jonathan\")"
   ]
  },
  {
   "cell_type": "markdown",
   "id": "3c6cb89f",
   "metadata": {},
   "source": [
    "# Variables in Module\n",
    "The module can contain functions, as already described, \n",
    "\n",
    "but also variables of all types (arrays, dictionaries, objects etc):"
   ]
  },
  {
   "cell_type": "code",
   "execution_count": 21,
   "id": "56ba8b77",
   "metadata": {},
   "outputs": [],
   "source": [
    "# Save this code in the file mymodule.py\n",
    "\n",
    "person1 = {\n",
    "  \"name\": \"John\",\n",
    "  \"age\": 36,\n",
    "  \"country\": \"Norway\"\n",
    "}"
   ]
  },
  {
   "cell_type": "code",
   "execution_count": 23,
   "id": "0ef3d00e",
   "metadata": {},
   "outputs": [
    {
     "ename": "AttributeError",
     "evalue": "module 'mymodule' has no attribute 'person1'",
     "output_type": "error",
     "traceback": [
      "\u001b[1;31m---------------------------------------------------------------------------\u001b[0m",
      "\u001b[1;31mAttributeError\u001b[0m                            Traceback (most recent call last)",
      "Cell \u001b[1;32mIn[23], line 5\u001b[0m\n\u001b[0;32m      1\u001b[0m \u001b[38;5;66;03m# Import the module named mymodule, and access the person1 dictionary:\u001b[39;00m\n\u001b[0;32m      3\u001b[0m \u001b[38;5;28;01mimport\u001b[39;00m \u001b[38;5;21;01mmymodule\u001b[39;00m\n\u001b[1;32m----> 5\u001b[0m a \u001b[38;5;241m=\u001b[39m \u001b[43mmymodule\u001b[49m\u001b[38;5;241;43m.\u001b[39;49m\u001b[43mperson1\u001b[49m[\u001b[38;5;124m\"\u001b[39m\u001b[38;5;124mage\u001b[39m\u001b[38;5;124m\"\u001b[39m]\n\u001b[0;32m      6\u001b[0m \u001b[38;5;28mprint\u001b[39m(a)\n",
      "\u001b[1;31mAttributeError\u001b[0m: module 'mymodule' has no attribute 'person1'"
     ]
    }
   ],
   "source": [
    "# Import the module named mymodule, and access the person1 dictionary:\n",
    "\n",
    "import mymodule\n",
    "\n",
    "a = mymodule.person1[\"age\"]\n",
    "print(a)\n"
   ]
  },
  {
   "cell_type": "markdown",
   "id": "63364b18",
   "metadata": {},
   "source": [
    "# Naming a Module\n",
    "You can name the module file whatever you like, but it must have the file extension .py\n",
    "\n",
    "# Re-naming a Module\n",
    "You can create an alias when you import a module, by using the as keyword:"
   ]
  },
  {
   "cell_type": "code",
   "execution_count": 26,
   "id": "7eb5c5e8",
   "metadata": {},
   "outputs": [
    {
     "ename": "AttributeError",
     "evalue": "module 'mymodule' has no attribute 'person1'",
     "output_type": "error",
     "traceback": [
      "\u001b[1;31m---------------------------------------------------------------------------\u001b[0m",
      "\u001b[1;31mAttributeError\u001b[0m                            Traceback (most recent call last)",
      "Cell \u001b[1;32mIn[26], line 5\u001b[0m\n\u001b[0;32m      1\u001b[0m \u001b[38;5;66;03m# Create an alias for mymodule called mx:\u001b[39;00m\n\u001b[0;32m      3\u001b[0m \u001b[38;5;28;01mimport\u001b[39;00m \u001b[38;5;21;01mmymodule\u001b[39;00m \u001b[38;5;28;01mas\u001b[39;00m \u001b[38;5;21;01mmx\u001b[39;00m\n\u001b[1;32m----> 5\u001b[0m a \u001b[38;5;241m=\u001b[39m \u001b[43mmx\u001b[49m\u001b[38;5;241;43m.\u001b[39;49m\u001b[43mperson1\u001b[49m[\u001b[38;5;124m\"\u001b[39m\u001b[38;5;124mage\u001b[39m\u001b[38;5;124m\"\u001b[39m]\n\u001b[0;32m      6\u001b[0m \u001b[38;5;28mprint\u001b[39m(a)\n",
      "\u001b[1;31mAttributeError\u001b[0m: module 'mymodule' has no attribute 'person1'"
     ]
    }
   ],
   "source": [
    "# Create an alias for mymodule called mx:\n",
    "\n",
    "import mymodule as mx\n",
    "\n",
    "a = mx.person1[\"age\"]\n",
    "print(a)"
   ]
  },
  {
   "cell_type": "markdown",
   "id": "d0199e63",
   "metadata": {},
   "source": [
    "# Built-in Modules\n",
    "There are several built-in modules in Python, \n",
    "\n",
    "which you can import whenever you like."
   ]
  },
  {
   "cell_type": "code",
   "execution_count": null,
   "id": "7289d643",
   "metadata": {},
   "outputs": [],
   "source": [
    "#Import and use the platform module:\n",
    "\n",
    "import platform\n",
    "\n",
    "x = platform.system()\n",
    "print(x)"
   ]
  },
  {
   "cell_type": "markdown",
   "id": "e6fb71c1",
   "metadata": {},
   "source": [
    "# Using the dir() Function\n",
    "There is a built-in function to list all the function names (or variable names) in a module. \n",
    "\n",
    "The dir() function:"
   ]
  },
  {
   "cell_type": "code",
   "execution_count": null,
   "id": "5632077d",
   "metadata": {},
   "outputs": [],
   "source": [
    "# List all the defined names belonging to the platform module:\n",
    "\n",
    "import platform\n",
    "\n",
    "x = dir(platform)\n",
    "print(x)"
   ]
  },
  {
   "cell_type": "markdown",
   "id": "67de98cd",
   "metadata": {},
   "source": [
    "# Import From Module\n",
    "You can choose to import only parts from a module, by using the from keyword."
   ]
  },
  {
   "cell_type": "code",
   "execution_count": 27,
   "id": "3f53273c",
   "metadata": {},
   "outputs": [],
   "source": [
    "#The module named mymodule has one function and one dictionary:\n",
    "\n",
    "def greeting(name):\n",
    "  print(\"Hello, \" + name)\n",
    "\n",
    "person1 = {\n",
    "  \"name\": \"John\",\n",
    "  \"age\": 36,\n",
    "  \"country\": \"Norway\"\n",
    "}"
   ]
  },
  {
   "cell_type": "code",
   "execution_count": 28,
   "id": "256a420c",
   "metadata": {},
   "outputs": [
    {
     "ename": "ImportError",
     "evalue": "cannot import name 'person1' from 'mymodule' (D:\\dsroad\\01 python\\04 Functions modules\\mymodule.py)",
     "output_type": "error",
     "traceback": [
      "\u001b[1;31m---------------------------------------------------------------------------\u001b[0m",
      "\u001b[1;31mImportError\u001b[0m                               Traceback (most recent call last)",
      "Cell \u001b[1;32mIn[28], line 3\u001b[0m\n\u001b[0;32m      1\u001b[0m \u001b[38;5;66;03m# Import only the person1 dictionary from the module:\u001b[39;00m\n\u001b[1;32m----> 3\u001b[0m \u001b[38;5;28;01mfrom\u001b[39;00m \u001b[38;5;21;01mmymodule\u001b[39;00m \u001b[38;5;28;01mimport\u001b[39;00m person1\n\u001b[0;32m      5\u001b[0m \u001b[38;5;28mprint\u001b[39m (person1[\u001b[38;5;124m\"\u001b[39m\u001b[38;5;124mage\u001b[39m\u001b[38;5;124m\"\u001b[39m])\n",
      "\u001b[1;31mImportError\u001b[0m: cannot import name 'person1' from 'mymodule' (D:\\dsroad\\01 python\\04 Functions modules\\mymodule.py)"
     ]
    }
   ],
   "source": [
    "# Import only the person1 dictionary from the module:\n",
    "\n",
    "from mymodule import person1\n",
    "\n",
    "print (person1[\"age\"])"
   ]
  },
  {
   "cell_type": "code",
   "execution_count": null,
   "id": "4b350830",
   "metadata": {},
   "outputs": [],
   "source": []
  }
 ],
 "metadata": {
  "kernelspec": {
   "display_name": "Python 3 (ipykernel)",
   "language": "python",
   "name": "python3"
  },
  "language_info": {
   "codemirror_mode": {
    "name": "ipython",
    "version": 3
   },
   "file_extension": ".py",
   "mimetype": "text/x-python",
   "name": "python",
   "nbconvert_exporter": "python",
   "pygments_lexer": "ipython3",
   "version": "3.11.4"
  }
 },
 "nbformat": 4,
 "nbformat_minor": 5
}
